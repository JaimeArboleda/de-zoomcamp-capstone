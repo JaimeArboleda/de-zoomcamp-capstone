{
 "cells": [
  {
   "cell_type": "code",
   "execution_count": 4,
   "id": "d2991c27-4b37-45eb-bdd0-1f9a13730205",
   "metadata": {
    "tags": []
   },
   "outputs": [],
   "source": [
    "from dotenv import dotenv_values\n",
    "from pyspark.sql import SparkSession\n",
    "import pyspark.sql.functions as f\n",
    "from google.cloud import storage\n",
    "\n",
    "HOME = \"/home/jovyan\"\n",
    "config = dotenv_values(HOME + \"/.env\")\n",
    "CREDENTIALS = HOME + \"/gcp_credentials.json\"\n",
    "BUCKET_NAME = config[\"project-name\"] + \"-\" + config[\"bucket-name\"]\n",
    "GCS_CLIENT = storage.Client.from_service_account_json(CREDENTIALS)\n",
    "INDUSTRIES_PATH = f\"gs://{BUCKET_NAME}/raw/industries.parquet\"\n",
    "COMPANIES_PATH = f\"gs://{BUCKET_NAME}/raw/companies.parquet\"\n",
    "SHAREPRICES_PATH = f\"gs://{BUCKET_NAME}/raw/shareprices.parquet\"\n",
    "\n",
    "def get_file_names(folder, include_subfolders=False):\n",
    "    bucket_handle = GCS_CLIENT.bucket(BUCKET_NAME)\n",
    "    names = [\n",
    "        b.name[(len(folder) + 1):]\n",
    "        for b in bucket_handle.list_blobs(prefix=folder)\n",
    "    ]\n",
    "    if not include_subfolders:\n",
    "        output = []\n",
    "        for name in names:\n",
    "            if len(name) > 1:\n",
    "                if name[-1] == \"/\":\n",
    "                    name = name[0:-1]\n",
    "                if \"/\" not in name:\n",
    "                    output.append(name)\n",
    "        names = output\n",
    "    return names\n",
    "\n",
    "def get_processed_year_months():\n",
    "    names = get_file_names(\"processed\")\n",
    "    return sorted([n[0:6] for n in names])\n",
    "\n",
    "processed_year_months = get_processed_year_months()\n",
    "last_processed_year_month = processed_year_months[-1]"
   ]
  },
  {
   "cell_type": "code",
   "execution_count": 5,
   "id": "c52a2036-c9a3-413a-a66d-5dbf61a440bb",
   "metadata": {
    "tags": []
   },
   "outputs": [
    {
     "data": {
      "text/plain": [
       "['201702',\n",
       " '201703',\n",
       " '201704',\n",
       " '201705',\n",
       " '201706',\n",
       " '201707',\n",
       " '201708',\n",
       " '201709',\n",
       " '201710',\n",
       " '201711',\n",
       " '201712',\n",
       " '201801',\n",
       " '201802',\n",
       " '201803',\n",
       " '201804',\n",
       " '201805',\n",
       " '201806',\n",
       " '201807',\n",
       " '201808',\n",
       " '201809',\n",
       " '201810',\n",
       " '201811',\n",
       " '201812',\n",
       " '201901',\n",
       " '201902',\n",
       " '201903',\n",
       " '201904',\n",
       " '201905',\n",
       " '201906',\n",
       " '201907',\n",
       " '201908',\n",
       " '201909',\n",
       " '201910',\n",
       " '201911',\n",
       " '201912',\n",
       " '202001',\n",
       " '202002',\n",
       " '202003',\n",
       " '202004',\n",
       " '202005',\n",
       " '202006',\n",
       " '202007',\n",
       " '202008',\n",
       " '202009',\n",
       " '202010',\n",
       " '202011',\n",
       " '202012',\n",
       " '202101',\n",
       " '202102',\n",
       " '202103',\n",
       " '202104',\n",
       " '202105',\n",
       " '202106',\n",
       " '202107',\n",
       " '202108',\n",
       " '202109',\n",
       " '202110',\n",
       " '202111',\n",
       " '202112',\n",
       " '202201',\n",
       " '202202']"
      ]
     },
     "execution_count": 5,
     "metadata": {},
     "output_type": "execute_result"
    }
   ],
   "source": [
    "processed_year_months"
   ]
  },
  {
   "cell_type": "code",
   "execution_count": 23,
   "id": "d9a5ce2f-bd93-4a70-b227-d5df7b69385a",
   "metadata": {
    "tags": []
   },
   "outputs": [],
   "source": [
    "spark = (\n",
    "    SparkSession\n",
    "    .builder\n",
    "    .master(\"local\")\n",
    "    .appName(\"test\")\n",
    "    .getOrCreate()\n",
    ")\n",
    "spark._jsc.hadoopConfiguration().set(\"google.cloud.auth.service.account.json.keyfile\", CREDENTIALS)"
   ]
  },
  {
   "cell_type": "code",
   "execution_count": 24,
   "id": "5800aa8d-0da2-4431-b891-384ab8e20ca6",
   "metadata": {
    "tags": []
   },
   "outputs": [],
   "source": [
    "industries = (\n",
    "    spark\n",
    "    .read\n",
    "    .option(\"header\", \"true\")\n",
    "    .parquet(INDUSTRIES_PATH)\n",
    ")\n",
    "companies = (\n",
    "    spark\n",
    "    .read\n",
    "    .option(\"header\", \"true\")\n",
    "    .parquet(COMPANIES_PATH)\n",
    ")\n",
    "shareprices = (\n",
    "    spark\n",
    "    .read\n",
    "    .option(\"header\", \"true\")\n",
    "    .parquet(SHAREPRICES_PATH)\n",
    ")"
   ]
  },
  {
   "cell_type": "code",
   "execution_count": 25,
   "id": "8233c2cd-cfe5-4cce-a3b1-8992de316475",
   "metadata": {
    "tags": []
   },
   "outputs": [],
   "source": [
    "df_1 = (\n",
    "    shareprices\n",
    "    .join(companies, shareprices.SimFinId == companies.SimFinId)\n",
    ")\n",
    "df_2 = (\n",
    "    df_1\n",
    "    .join(industries, df_1.IndustryId == industries.IndustryId)\n",
    "    .select(\"Date\", \"Low\", \"High\", \"Company Name\", \"Sector\", \"Open\", \"Close\")\n",
    ")\n",
    "\n",
    "df_2 = (\n",
    "    df_2\n",
    "    .withColumn(\"Turmoil\", 100 * f.abs(df_2[\"High\"] - df_2[\"Low\"]) / df_2[\"Low\"])\n",
    "    .withColumn(\"Net Change\", 100 * (df_2[\"Close\"] - df_2[\"Open\"]) / df_2[\"Open\"])\n",
    "    .withColumn(\"Avg Price\", (df_2[\"Close\"] + df_2[\"Open\"]) / 2)\n",
    ")\n",
    "value_cols = [\"Turmoil\", \"Net Change\", \"Avg Price\"]"
   ]
  },
  {
   "cell_type": "code",
   "execution_count": 26,
   "id": "89f3ec3e-e9fd-4869-9715-2942c67bd6ff",
   "metadata": {
    "tags": []
   },
   "outputs": [],
   "source": [
    "day_totals = df_2.groupBy(\"Date\").agg(*[f.avg(c).alias(c) for c in value_cols])\n",
    "day_totals = day_totals.withColumn(\"Company Name\", f.lit(\"Total\"))\n",
    "day_totals = day_totals.withColumn(\"Sector\", f.lit(\"Total\"))\n",
    "sector_totals = df_2.groupBy(\"Date\", \"Sector\").agg(*[f.avg(c).alias(c) for c in value_cols])\n",
    "sector_totals = sector_totals.withColumn(\"Company Name\", f.concat(f.col(\"Sector\"), f.lit(\" Total\")))"
   ]
  },
  {
   "cell_type": "code",
   "execution_count": 27,
   "id": "bd73a86d-3a9c-44ea-8a4e-9be578dc6f71",
   "metadata": {
    "tags": []
   },
   "outputs": [],
   "source": [
    "df = (\n",
    "    df_2\n",
    "    .unionByName(day_totals, allowMissingColumns=True)\n",
    "    .unionByName(sector_totals, allowMissingColumns=True)\n",
    ")\n",
    "df = (\n",
    "    df\n",
    "    .withColumn(\"Year\", f.year(\"Date\"))\n",
    "    .withColumn(\"Month\", f.format_string('%02d', f.month(\"Date\")))\n",
    ")\n",
    "df = df.withColumn(\"Year-Month\", f.concat(\"Year\", \"Month\"))\n",
    "df = df.drop(\"Year\").drop(\"Month\")\n",
    "\n",
    "year_months = sorted([\n",
    "    v[\"Year-Month\"]\n",
    "    for v in df.select(\"Year-Month\").distinct().collect()\n",
    "])"
   ]
  },
  {
   "cell_type": "code",
   "execution_count": 28,
   "id": "2a538b41-82c6-4063-98d5-a9347fec8ae2",
   "metadata": {
    "tags": []
   },
   "outputs": [
    {
     "name": "stdout",
     "output_type": "stream",
     "text": [
      "Saving 201703...\n",
      "Saving 201704...\n",
      "Saving 201705...\n",
      "Saving 201706...\n",
      "Saving 201707...\n",
      "Saving 201708...\n",
      "Saving 201709...\n",
      "Saving 201710...\n",
      "Saving 201711...\n",
      "Saving 201712...\n",
      "Saving 201801...\n",
      "Saving 201802...\n",
      "Saving 201803...\n",
      "Saving 201804...\n",
      "Saving 201805...\n",
      "Saving 201806...\n",
      "Saving 201807...\n",
      "Saving 201808...\n",
      "Saving 201810...\n",
      "Saving 201811...\n",
      "Saving 201812...\n",
      "Saving 201901...\n",
      "Saving 201902...\n",
      "Saving 201904...\n",
      "Saving 201905...\n",
      "Saving 201906...\n",
      "Saving 201907...\n",
      "Saving 201908...\n",
      "Saving 201909...\n",
      "Saving 201910...\n",
      "Saving 201911...\n",
      "Saving 201912...\n",
      "Saving 202001...\n",
      "Saving 202002...\n",
      "Saving 202003...\n",
      "Saving 202004...\n",
      "Saving 202005...\n",
      "Saving 202008...\n",
      "Saving 202010...\n",
      "Saving 202012...\n",
      "Saving 202102...\n",
      "Saving 202103...\n",
      "Saving 202104...\n",
      "Saving 202105...\n",
      "Saving 202106...\n",
      "Saving 202107...\n",
      "Saving 202108...\n",
      "Saving 202109...\n",
      "Saving 202111...\n",
      "Saving 202112...\n",
      "Saving 202201...\n",
      "Saving 202202...\n"
     ]
    }
   ],
   "source": [
    "for year_month in year_months: \n",
    "    if (year_month not in processed_year_months) or (year_month == last_processed_year_month):\n",
    "        print(f\"Saving {year_month}...\")\n",
    "        month = df.select(\"*\").where(df[\"Year-Month\"] == year_month)\n",
    "        month.write.parquet(\n",
    "            f\"gs://{BUCKET_NAME}/processed/{year_month}_shares.parquet\",\n",
    "            mode=\"overwrite\"\n",
    "        )"
   ]
  },
  {
   "cell_type": "code",
   "execution_count": null,
   "id": "fc6bd90c-5200-49cb-9409-42008fa34288",
   "metadata": {},
   "outputs": [],
   "source": []
  }
 ],
 "metadata": {
  "kernelspec": {
   "display_name": "Python 3 (ipykernel)",
   "language": "python",
   "name": "python3"
  },
  "language_info": {
   "codemirror_mode": {
    "name": "ipython",
    "version": 3
   },
   "file_extension": ".py",
   "mimetype": "text/x-python",
   "name": "python",
   "nbconvert_exporter": "python",
   "pygments_lexer": "ipython3",
   "version": "3.10.9"
  }
 },
 "nbformat": 4,
 "nbformat_minor": 5
}
