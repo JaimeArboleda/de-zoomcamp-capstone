{
 "cells": [
  {
   "cell_type": "code",
   "execution_count": 2,
   "id": "e6cc8d13-60a1-4ef7-9bcd-0b70d93df1a6",
   "metadata": {
    "tags": []
   },
   "outputs": [],
   "source": [
    "# Test: You should see in the docker console the capitalized version of the words in the list:\n",
    "from pyspark import SparkContext\n",
    "sc = SparkContext(\"local\", \"first app\")\n",
    "\n",
    "words = sc.parallelize(\n",
    "    [\"This\", \"SPARK\", \"cluster\", \"seems\", \"to\", \"work\", \"just\", \"fine!\"]\n",
    ")\n",
    "\n",
    "def f(x): \n",
    "    print(x)\n",
    "\n",
    "fore = words.foreach(f) "
   ]
  },
  {
   "cell_type": "code",
   "execution_count": null,
   "id": "f9c6684f-d424-4e05-ba54-cbc45b71a054",
   "metadata": {},
   "outputs": [],
   "source": []
  }
 ],
 "metadata": {
  "kernelspec": {
   "display_name": "Python 3 (ipykernel)",
   "language": "python",
   "name": "python3"
  },
  "language_info": {
   "codemirror_mode": {
    "name": "ipython",
    "version": 3
   },
   "file_extension": ".py",
   "mimetype": "text/x-python",
   "name": "python",
   "nbconvert_exporter": "python",
   "pygments_lexer": "ipython3",
   "version": "3.10.9"
  }
 },
 "nbformat": 4,
 "nbformat_minor": 5
}
